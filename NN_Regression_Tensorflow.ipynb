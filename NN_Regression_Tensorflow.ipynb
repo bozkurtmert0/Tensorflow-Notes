{
  "nbformat": 4,
  "nbformat_minor": 0,
  "metadata": {
    "colab": {
      "name": "NN_Regression_Tensorflow.ipynb",
      "provenance": [],
      "collapsed_sections": []
    },
    "kernelspec": {
      "name": "python3",
      "display_name": "Python 3"
    },
    "language_info": {
      "name": "python"
    }
  },
  "cells": [
    {
      "cell_type": "markdown",
      "metadata": {
        "id": "4VRWfQ77X_YI"
      },
      "source": [
        "# Neural Network Regression with Tensorflow"
      ]
    },
    {
      "cell_type": "markdown",
      "metadata": {
        "id": "xhn6vGksN6JG"
      },
      "source": [
        "Tensorflow kütüphanemizi import edip hangi sürümde olduğunu kontrol edelim"
      ]
    },
    {
      "cell_type": "code",
      "metadata": {
        "colab": {
          "base_uri": "https://localhost:8080/"
        },
        "id": "4ar8EMJNX0cc",
        "outputId": "c94f19fc-fb6e-470d-d22c-405b6b2f960e"
      },
      "source": [
        "import tensorflow as tf \n",
        "print(tf.__version__)"
      ],
      "execution_count": null,
      "outputs": [
        {
          "output_type": "stream",
          "name": "stdout",
          "text": [
            "2.6.0\n"
          ]
        }
      ]
    },
    {
      "cell_type": "markdown",
      "metadata": {
        "id": "Rp2IHV4dac0N"
      },
      "source": [
        "## Veriyi oluşturma"
      ]
    },
    {
      "cell_type": "code",
      "metadata": {
        "colab": {
          "base_uri": "https://localhost:8080/",
          "height": 282
        },
        "id": "srGFCpHMaNH2",
        "outputId": "b1c4e31d-b3d1-4b62-92ab-f2c10db0bd6c"
      },
      "source": [
        "import numpy as np\n",
        "import matplotlib.pyplot as plt\n",
        "\n",
        "#ozellikleri tanimliyoruz\n",
        "X = np.array([1.0,2.0,3.0,4.0,5.0])\n",
        "\n",
        "#labellari tanimliyalim\n",
        "y = np.array([4.0,8.0,12.0,16.0,20.0])\n",
        "\n",
        "#grafige dokelim\n",
        "plt.scatter(X,y)"
      ],
      "execution_count": null,
      "outputs": [
        {
          "output_type": "execute_result",
          "data": {
            "text/plain": [
              "<matplotlib.collections.PathCollection at 0x7f639eb525d0>"
            ]
          },
          "metadata": {},
          "execution_count": 2
        },
        {
          "output_type": "display_data",
          "data": {
            "image/png": "[encoded data removed]",
            "text/plain": [
              "<Figure size 432x288 with 1 Axes>"
            ]
          },
          "metadata": {
            "needs_background": "light"
          }
        }
      ]
    },
    {
      "cell_type": "markdown",
      "metadata": {
        "id": "tKctUy1abeNl"
      },
      "source": [
        "Veriler arasinda basit bir iliski var bunu kontrol edebiliriz."
      ]
    },
    {
      "cell_type": "code",
      "metadata": {
        "colab": {
          "base_uri": "https://localhost:8080/"
        },
        "id": "eNC317hdbCHs",
        "outputId": "c2a855fa-cbb0-4759-f468-133fb1bbd331"
      },
      "source": [
        "y == X*4"
      ],
      "execution_count": null,
      "outputs": [
        {
          "output_type": "execute_result",
          "data": {
            "text/plain": [
              "array([ True,  True,  True,  True,  True])"
            ]
          },
          "metadata": {},
          "execution_count": 4
        }
      ]
    },
    {
      "cell_type": "markdown",
      "metadata": {
        "id": "IzbsGYwpb5Vu"
      },
      "source": [
        "Burada X bagımsiz, y ise bagimli degiskendir."
      ]
    },
    {
      "cell_type": "markdown",
      "metadata": {
        "id": "YHsLML30cG6v"
      },
      "source": [
        "* numpy arraylarimizi tensorlere donusturelim ki modelimizin kullanımına uygun olsunlar"
      ]
    },
    {
      "cell_type": "code",
      "metadata": {
        "colab": {
          "base_uri": "https://localhost:8080/"
        },
        "id": "r2Pv4-ALagkk",
        "outputId": "bcd743ff-0867-4a18-e3ae-8abae65c612a"
      },
      "source": [
        "X = tf.cast(tf.constant(X), dtype=tf.float32)\n",
        "y = tf.cast(tf.constant(y) , dtype=tf.float32)\n",
        "#boyutlarina da bakalim\n",
        "X[0].ndim ,y[0].ndim"
      ],
      "execution_count": null,
      "outputs": [
        {
          "output_type": "execute_result",
          "data": {
            "text/plain": [
              "(0, 0)"
            ]
          },
          "metadata": {},
          "execution_count": 5
        }
      ]
    },
    {
      "cell_type": "markdown",
      "metadata": {
        "id": "z-PHYe2hdcKA"
      },
      "source": [
        "## Tensorflow ile modelleme adimlari\n",
        "\n",
        "1. Modeli olusturmak --- girdi, cikti ve gizli katmanlari tanimlamak\n",
        "2. Modeli derlemek --- kayip fonksiyonunu(loss function) , optimizer ve degerlendirme metriklerini(evaluation metrics) tanimlamak\n",
        "3. Modeli fit etmek --- modelin x ve y arasindaki desen(pattern)leri bulamasi icin denemek"
      ]
    },
    {
      "cell_type": "markdown",
      "metadata": {
        "id": "ZOB-D8fRfI3o"
      },
      "source": [
        "\n",
        "\n",
        "\n",
        "### **Model olusturmak**"
      ]
    },
    {
      "cell_type": "code",
      "metadata": {
        "colab": {
          "base_uri": "https://localhost:8080/"
        },
        "id": "xJREqHTOdGwd",
        "outputId": "586f4b11-e71f-4936-850b-ab28d94de9d2"
      },
      "source": [
        "tf.random.set_seed(42)\n",
        "\n",
        "\n",
        "#1.adim modeli olusturmak icin Sequential API kullandik burda\n",
        "model = tf.keras.Sequential([\n",
        "      tf.keras.layers.Dense(1)\n",
        "])\n",
        "\n",
        "#2. adim derlemek/Compile  model\\\n",
        "model.compile(loss= tf.keras.losses.mae,    #mae = mean absolute error\n",
        "              optimizer= tf.keras.optimizers.SGD(),  #SGD  = Stochastic Gradient Descent\n",
        "              metrics=[\"mae\"]\n",
        "              )\n",
        "\n",
        "# 3.adim modeli fit etmek\n",
        "model.fit(X, y, epochs = 5)"
      ],
      "execution_count": null,
      "outputs": [
        {
          "output_type": "stream",
          "name": "stdout",
          "text": [
            "Epoch 1/5\n",
            "1/1 [==============================] - 0s 276ms/step - loss: 10.2898 - mae: 10.2898\n",
            "Epoch 2/5\n",
            "1/1 [==============================] - 0s 7ms/step - loss: 10.1898 - mae: 10.1898\n",
            "Epoch 3/5\n",
            "1/1 [==============================] - 0s 8ms/step - loss: 10.0898 - mae: 10.0898\n",
            "Epoch 4/5\n",
            "1/1 [==============================] - 0s 8ms/step - loss: 9.9898 - mae: 9.9898\n",
            "Epoch 5/5\n",
            "1/1 [==============================] - 0s 6ms/step - loss: 9.8898 - mae: 9.8898\n"
          ]
        },
        {
          "output_type": "execute_result",
          "data": {
            "text/plain": [
              "<keras.callbacks.History at 0x7f63989d3610>"
            ]
          },
          "metadata": {},
          "execution_count": 6
        }
      ]
    },
    {
      "cell_type": "markdown",
      "metadata": {
        "id": "oDwqKlXKiRcX"
      },
      "source": [
        "**X ve y degerlerimizi tekrar hatirlayip modele bir tahmin yaptiralim**\n",
        "\n",
        "\n"
      ]
    },
    {
      "cell_type": "code",
      "metadata": {
        "colab": {
          "base_uri": "https://localhost:8080/"
        },
        "id": "wlKw84eHg_kl",
        "outputId": "3c304800-8d75-42ae-bc4f-c190f0e18531"
      },
      "source": [
        "X, y"
      ],
      "execution_count": null,
      "outputs": [
        {
          "output_type": "execute_result",
          "data": {
            "text/plain": [
              "(<tf.Tensor: shape=(5,), dtype=float32, numpy=array([1., 2., 3., 4., 5.], dtype=float32)>,\n",
              " <tf.Tensor: shape=(5,), dtype=float32, numpy=array([ 4.,  8., 12., 16., 20.], dtype=float32)>)"
            ]
          },
          "metadata": {},
          "execution_count": 7
        }
      ]
    },
    {
      "cell_type": "code",
      "metadata": {
        "colab": {
          "base_uri": "https://localhost:8080/"
        },
        "id": "hMJX0jSeiZ5T",
        "outputId": "7785291a-a19b-4d89-aba2-0ce049f26440"
      },
      "source": [
        "model.predict([10.0])"
      ],
      "execution_count": null,
      "outputs": [
        {
          "output_type": "execute_result",
          "data": {
            "text/plain": [
              "array([[7.2505984]], dtype=float32)"
            ]
          },
          "metadata": {},
          "execution_count": 9
        }
      ]
    },
    {
      "cell_type": "markdown",
      "metadata": {
        "id": "-ZVmq50Wigg8"
      },
      "source": [
        "10 degeri icin modelimiz cok kotu bir tahminde bulundu. 40 degerini bulmasi gerekirken 7 degerini buldu. Modelimizin tahminleri kotuydu bunu gelistirmeye calisalim"
      ]
    },
    {
      "cell_type": "markdown",
      "metadata": {
        "id": "I07TkRvxV3CH"
      },
      "source": [
        "## **Modeli Geliştirmek**\n",
        "\n",
        "1. **Modeli olustururken gelistirmek** : Daha fazla katman ekleyebilir,  noron sayisini(hidden units) sayisini arttirabilir, her katman icin aktivasyon fonskiyonunu degistirebiliriz.\n",
        "\n",
        "2. **Modelin derleme asamasinda gelistirmek** : optimizasyon fonksiyonunu degistirebilir , ogrenme orani(learning rate)  degistirilebilir.\n",
        "\n",
        "3. **Modeli fit etme asamasinda gelistirmek** : daha fazla epoch ile egitime sokabiliriz veya daha fazla veri ile egitebiliriz."
      ]
    },
    {
      "cell_type": "markdown",
      "metadata": {
        "id": "5PW8YhAAX6rC"
      },
      "source": [
        "Modeli tekrar olusturalim"
      ]
    },
    {
      "cell_type": "code",
      "metadata": {
        "id": "TLj5Bb-tieyD"
      },
      "source": [
        "#1.adim modeli olusturmak Sequential API kullandik burda\n",
        "model = tf.keras.Sequential([\n",
        "      tf.keras.layers.Dense(1)\n",
        "])\n",
        "\n",
        "#2. adim derlemek/Compile  model\\\n",
        "model.compile(loss= tf.keras.losses.mae,    #mae = mean absolute error\n",
        "              optimizer= tf.keras.optimizers.SGD(),  #SGD  = Stochastic Gradient Descent\n",
        "              metrics=[\"mae\"]\n",
        "              )\n",
        "\n",
        "# 3.adim modeli fit etmek\n",
        "model.fit(X, y, epochs = 100)\n",
        "\n",
        "#sadece epochs sayisini degistirdik"
      ],
      "execution_count": null,
      "outputs": []
    },
    {
      "cell_type": "code",
      "metadata": {
        "colab": {
          "base_uri": "https://localhost:8080/"
        },
        "id": "onHaKEXZYWQ9",
        "outputId": "0342a288-e09a-4013-cfb2-c0929689e090"
      },
      "source": [
        "model.predict([10.0])"
      ],
      "execution_count": null,
      "outputs": [
        {
          "output_type": "execute_result",
          "data": {
            "text/plain": [
              "array([[36.720722]], dtype=float32)"
            ]
          },
          "metadata": {},
          "execution_count": 10
        }
      ]
    },
    {
      "cell_type": "markdown",
      "metadata": {
        "id": "KxxzWOOvY2Ie"
      },
      "source": [
        "Tekrar tahmin etmesini istedigimizde bu sefer cok daha yaklasmis olduk.Bekledigimiz deger 40 idi fakat modelimizin gelisitigini gormus olduk."
      ]
    },
    {
      "cell_type": "markdown",
      "metadata": {
        "id": "pVZGDCWxZIue"
      },
      "source": [
        "Daha fazla gelisitirmek icin degisiklikler yapmaya devam edelim\\\n",
        "Yeni katman ekleyelim."
      ]
    },
    {
      "cell_type": "code",
      "metadata": {
        "id": "5MxW80RlY03o"
      },
      "source": [
        "#1.adim modeli olusturmak Sequential API kullandik burda\n",
        "model = tf.keras.Sequential([\n",
        "      tf.keras.layers.Dense(100,activation = \"relu\"), #yeni katman ve aktivasyon fonksiyonu ekledik\n",
        "      tf.keras.layers.Dense(1)\n",
        "])\n",
        "\n",
        "#2. adim derlemek/Compile  model\\\n",
        "model.compile(loss= tf.keras.losses.mae,    #mae = mean absolute error\n",
        "             #optimizeri degistirip learning rate ekledik  cok onemli bir hiperapremetredir\n",
        "              optimizer= tf.keras.optimizers.Adam(learning_rate=0.01),  \n",
        "              metrics=[\"mae\"]\n",
        "              )\n",
        "\n",
        "# 3.adim modeli fit etmek\n",
        "model.fit(X, y, epochs = 100)"
      ],
      "execution_count": null,
      "outputs": []
    },
    {
      "cell_type": "markdown",
      "metadata": {
        "id": "7zC1lG1nbCyP"
      },
      "source": [
        "Tekrar tahmin yaptiralim"
      ]
    },
    {
      "cell_type": "code",
      "metadata": {
        "colab": {
          "base_uri": "https://localhost:8080/"
        },
        "id": "xphaF4EgZ6_l",
        "outputId": "6aa2adeb-d6ed-447c-c9ac-f942115fe19c"
      },
      "source": [
        "model.predict([10.0])"
      ],
      "execution_count": null,
      "outputs": [
        {
          "output_type": "execute_result",
          "data": {
            "text/plain": [
              "array([[40.38787]], dtype=float32)"
            ]
          },
          "metadata": {},
          "execution_count": 12
        }
      ]
    },
    {
      "cell_type": "markdown",
      "metadata": {
        "id": "QMMyL3o_bHrH"
      },
      "source": [
        "Bu sefer daha da yaklasmis olduk ve model gelisitirmeye basit bir sekilde bakmis olduk."
      ]
    },
    {
      "cell_type": "markdown",
      "metadata": {
        "id": "zV1r0gbIiavp"
      },
      "source": [
        "### Modeli Degerlendirmek (Evalueta Model )\n",
        "\n",
        "Basitce calisma mantigimiz sudur\n",
        "\n",
        "Modeli olusturur --> modeli fit eder --> modeli degerlendirir --> ince ayarlar yapar --> modeli fit eder-- > modeli degerlendirir --> ince ayalarlar yapar ....\n",
        "seklinde modeli gelsitirerek devam ederiz"
      ]
    },
    {
      "cell_type": "markdown",
      "metadata": {
        "id": "qbkOD29ijitl"
      },
      "source": [
        "Modeli degerlendirmek icin onu dogru sekilde okumamiz gerekir bunun da en iyi yolu gorsellestiremkten gecer\n",
        "\n",
        "* Veriyi gorsellestirmek -- Calistigimiz veri nedir nasil gorunuyor ?\n",
        "* Modelin kendisi -- Modelimiz nasil gorunuyor ?\n",
        "* Ogrenme asamasina bakmak -- Modelimiz ogrenirken nasil performans gosteriyor ?\n",
        "* Modelin tahminlerine goz atmak -- Modelimiz gercekte ne kadar iyi tahmin yapiyor ?\n"
      ]
    },
    {
      "cell_type": "markdown",
      "metadata": {
        "id": "uWlUUhzDkzMJ"
      },
      "source": [
        "Daha buyuk bir veri seti olusturalim"
      ]
    },
    {
      "cell_type": "code",
      "metadata": {
        "colab": {
          "base_uri": "https://localhost:8080/"
        },
        "id": "TrxUIkfSa_iO",
        "outputId": "f28a7b85-bf05-4f5f-ee3b-4cfb952f1e22"
      },
      "source": [
        "X = tf.range(-100 ,100,4) \n",
        "X"
      ],
      "execution_count": null,
      "outputs": [
        {
          "output_type": "execute_result",
          "data": {
            "text/plain": [
              "<tf.Tensor: shape=(50,), dtype=int32, numpy=\n",
              "array([-100,  -96,  -92,  -88,  -84,  -80,  -76,  -72,  -68,  -64,  -60,\n",
              "        -56,  -52,  -48,  -44,  -40,  -36,  -32,  -28,  -24,  -20,  -16,\n",
              "        -12,   -8,   -4,    0,    4,    8,   12,   16,   20,   24,   28,\n",
              "         32,   36,   40,   44,   48,   52,   56,   60,   64,   68,   72,\n",
              "         76,   80,   84,   88,   92,   96], dtype=int32)>"
            ]
          },
          "metadata": {},
          "execution_count": 13
        }
      ]
    },
    {
      "cell_type": "markdown",
      "metadata": {
        "id": "v2deMsc3lQPZ"
      },
      "source": [
        "Verimiz icin label olsuturalim"
      ]
    },
    {
      "cell_type": "code",
      "metadata": {
        "colab": {
          "base_uri": "https://localhost:8080/"
        },
        "id": "VDky2p7fk--Y",
        "outputId": "fe15acc5-fecb-4146-af63-b61b94a8d6f9"
      },
      "source": [
        "y = X *4\n",
        "y"
      ],
      "execution_count": null,
      "outputs": [
        {
          "output_type": "execute_result",
          "data": {
            "text/plain": [
              "<tf.Tensor: shape=(50,), dtype=int32, numpy=\n",
              "array([-400, -384, -368, -352, -336, -320, -304, -288, -272, -256, -240,\n",
              "       -224, -208, -192, -176, -160, -144, -128, -112,  -96,  -80,  -64,\n",
              "        -48,  -32,  -16,    0,   16,   32,   48,   64,   80,   96,  112,\n",
              "        128,  144,  160,  176,  192,  208,  224,  240,  256,  272,  288,\n",
              "        304,  320,  336,  352,  368,  384], dtype=int32)>"
            ]
          },
          "metadata": {},
          "execution_count": 14
        }
      ]
    },
    {
      "cell_type": "markdown",
      "metadata": {
        "id": "qbSI4E4QldGx"
      },
      "source": [
        "Veriyi gorsellestirelim"
      ]
    },
    {
      "cell_type": "code",
      "metadata": {
        "colab": {
          "base_uri": "https://localhost:8080/",
          "height": 282
        },
        "id": "UlHaWWzHlXLP",
        "outputId": "01304985-5098-42a7-ca91-7ce395eb985b"
      },
      "source": [
        "import matplotlib.pyplot as plt\n",
        "\n",
        "plt.scatter(X,y)"
      ],
      "execution_count": null,
      "outputs": [
        {
          "output_type": "execute_result",
          "data": {
            "text/plain": [
              "<matplotlib.collections.PathCollection at 0x7ffa01d36390>"
            ]
          },
          "metadata": {},
          "execution_count": 15
        },
        {
          "output_type": "display_data",
          "data": {
            "image/png": "[encoded data removed]",
            "text/plain": [
              "<Figure size 432x288 with 1 Axes>"
            ]
          },
          "metadata": {
            "needs_background": "light"
          }
        }
      ]
    },
    {
      "cell_type": "markdown",
      "metadata": {
        "id": "pnqnVj9blqFx"
      },
      "source": [
        "Verimizi 3'e ayiralim\n",
        "* **Egitim kumesi** --> model bu veriden ogrenecektir. Genelde toplam verinin %70-80 inini olsuturur.\n",
        "* **Dogrulama kumesi** --> modeli bu kumeyi kullanarak gelistirecegiz. %10-15 i olur toplam verinin\n",
        "* **Test kumesi** --- > modelin neler ogrendigini degerlendirmek icin kullanilir genelde toplam verinin %10-15 ni icerir \n"
      ]
    },
    {
      "cell_type": "markdown",
      "metadata": {
        "id": "22Q6ZzhXm-Iz"
      },
      "source": [
        "Egitim kumesi --> ders kitabi ve dersler\n",
        "\n",
        "Dogrulama kumesi --> deneme sinavlarimiz\n",
        "\n",
        "Test kumesi --> final sinavimiz (yks vb. :()"
      ]
    },
    {
      "cell_type": "markdown",
      "metadata": {
        "id": "WRtnaz6VnbW7"
      },
      "source": [
        "Dogrulama (Validation) kumesini her zaman kullanmayabiliriz. Elimizde buyuk bir veri kumesi var ise kullaniriz. Kisitli verimiz var ise kullanmamak bizim icin daha iyi olacaktir"
      ]
    },
    {
      "cell_type": "code",
      "metadata": {
        "colab": {
          "base_uri": "https://localhost:8080/"
        },
        "id": "BpCVqOlhoPGA",
        "outputId": "2768fa8e-faad-472c-ac59-1e263566f276"
      },
      "source": [
        "len(X)"
      ],
      "execution_count": null,
      "outputs": [
        {
          "output_type": "execute_result",
          "data": {
            "text/plain": [
              "50"
            ]
          },
          "metadata": {},
          "execution_count": 16
        }
      ]
    },
    {
      "cell_type": "code",
      "metadata": {
        "colab": {
          "base_uri": "https://localhost:8080/"
        },
        "id": "E68FVqI1lkM6",
        "outputId": "aec7e908-ebd1-4086-aaf5-dc1a48f1f7a4"
      },
      "source": [
        "X_train = X[:40] #ilk 40 veriyi egitim kumesine ayirdik %80\n",
        "y_train = y[:40]\n",
        "\n",
        "X_test = X[40:] #son 10 veriyi de test kumesine ayirmis olduk %20\n",
        "y_test = y[40:]\n",
        "\n",
        "len(X_train), len(y_train), len(X_test), len(y_test)"
      ],
      "execution_count": null,
      "outputs": [
        {
          "output_type": "execute_result",
          "data": {
            "text/plain": [
              "(40, 40, 10, 10)"
            ]
          },
          "metadata": {},
          "execution_count": 17
        }
      ]
    },
    {
      "cell_type": "markdown",
      "metadata": {
        "id": "aIkK0hKfp3Zr"
      },
      "source": [
        "Verimizi gorsellestirelim"
      ]
    },
    {
      "cell_type": "code",
      "metadata": {
        "colab": {
          "base_uri": "https://localhost:8080/",
          "height": 428
        },
        "id": "OowV8LzeoefA",
        "outputId": "7d50edb2-c406-4154-a971-34780be3505f"
      },
      "source": [
        "plt.figure(figsize=(10,7))\n",
        "\n",
        "#Egitim verisini mavi\n",
        "plt.scatter(X_train, y_train, c='b', label = \"Egitim Verisi\")\n",
        "# test verisini yesil rengle gosterecegiz\n",
        "plt.scatter(X_test, y_test, c='g', label = \"Test Verisi\")\n",
        "#lejant eklemis olduk\n",
        "plt.legend();"
      ],
      "execution_count": null,
      "outputs": [
        {
          "output_type": "display_data",
          "data": {
            "image/png": "[encoded data removed]",
            "text/plain": [
              "<Figure size 720x504 with 1 Axes>"
            ]
          },
          "metadata": {
            "needs_background": "light"
          }
        }
      ]
    },
    {
      "cell_type": "markdown",
      "metadata": {
        "id": "RZ9XAv_jrcoy"
      },
      "source": [
        "**Modelimize Goz atma asamasi**"
      ]
    },
    {
      "cell_type": "code",
      "metadata": {
        "id": "8HQZYRtHqfJ5"
      },
      "source": [
        "#1.adim modeli olusturmak \n",
        "model = tf.keras.Sequential([\n",
        "      tf.keras.layers.Dense(10, input_shape = [1], name='input_layer'), #input shape yani giridi boyutunu bazen otomatik algilasade kendimiz girmemeiz daha iyi olacaktir\n",
        "      tf.keras.layers.Dense(1, name= \"output_layer\")\n",
        "], name= \"Model1\")\n",
        "\n",
        "#2. adim derlemek/Compile  model\\\n",
        "model.compile(loss= tf.keras.losses.mae,             \n",
        "              optimizer= tf.keras.optimizers.SGD(),  \n",
        "              metrics=[\"mae\"]\n",
        "              )\n",
        "\n",
        "# 3.adim modeli fit etmek\n",
        "#model.fit(X_train, y_train, epochs = 100)"
      ],
      "execution_count": null,
      "outputs": []
    },
    {
      "cell_type": "markdown",
      "metadata": {
        "id": "mYNhuKRRsGyD"
      },
      "source": [
        "Modeli fit etmeden once ona goz atmak iyi olacaktir"
      ]
    },
    {
      "cell_type": "code",
      "metadata": {
        "colab": {
          "base_uri": "https://localhost:8080/"
        },
        "id": "ZtyaA-musQkp",
        "outputId": "ad6b69fc-e1ae-4395-e524-89d21db5161c"
      },
      "source": [
        "model.summary()"
      ],
      "execution_count": null,
      "outputs": [
        {
          "output_type": "stream",
          "name": "stdout",
          "text": [
            "Model: \"Model1\"\n",
            "_________________________________________________________________\n",
            "Layer (type)                 Output Shape              Param #   \n",
            "=================================================================\n",
            "input_layer (Dense)          (None, 10)                20        \n",
            "_________________________________________________________________\n",
            "output_layer (Dense)         (None, 1)                 11        \n",
            "=================================================================\n",
            "Total params: 31\n",
            "Trainable params: 31\n",
            "Non-trainable params: 0\n",
            "_________________________________________________________________\n"
          ]
        }
      ]
    },
    {
      "cell_type": "markdown",
      "metadata": {
        "id": "9uyjhwF7tKtz"
      },
      "source": [
        "* Total params: modeldeki toplam parametre sayisidir.\n",
        "\n",
        "* Trainable params: bu parametreler model ogrenirken guncellenen parametrelerdir.\n",
        "\n",
        "* Non-trainable params: Modelimize daha onceden egitilmis (preetrained model) ekleersek zaten egitilmis olduklari icin  o modelin parametreleri egitilmeyecektir. Bu sayida onu belirtiyor. **Transfer Learning**\n",
        "\n",
        "\n"
      ]
    },
    {
      "cell_type": "markdown",
      "metadata": {
        "id": "voUR1x8su6Im"
      },
      "source": [
        "Modeli fit edelim"
      ]
    },
    {
      "cell_type": "code",
      "metadata": {
        "colab": {
          "base_uri": "https://localhost:8080/"
        },
        "id": "tSyKlwA3sT-w",
        "outputId": "1e0f4919-2a89-4425-e92c-0d10638472f6"
      },
      "source": [
        "model.fit(X_train, y_train, epochs = 100,verbose=0) #verbos degiskeni model egitilirken cikti olan loglarin nasil olacagini belirler"
      ],
      "execution_count": null,
      "outputs": [
        {
          "output_type": "execute_result",
          "data": {
            "text/plain": [
              "<keras.callbacks.History at 0x7ff9feaf30d0>"
            ]
          },
          "metadata": {},
          "execution_count": 21
        }
      ]
    },
    {
      "cell_type": "code",
      "metadata": {
        "id": "3W_2h1YKvNFa",
        "colab": {
          "base_uri": "https://localhost:8080/"
        },
        "outputId": "cae89546-5677-4468-a905-303e51912f82"
      },
      "source": [
        "model.summary()"
      ],
      "execution_count": null,
      "outputs": [
        {
          "output_type": "stream",
          "name": "stdout",
          "text": [
            "Model: \"Model1\"\n",
            "_________________________________________________________________\n",
            "Layer (type)                 Output Shape              Param #   \n",
            "=================================================================\n",
            "input_layer (Dense)          (None, 10)                20        \n",
            "_________________________________________________________________\n",
            "output_layer (Dense)         (None, 1)                 11        \n",
            "=================================================================\n",
            "Total params: 31\n",
            "Trainable params: 31\n",
            "Non-trainable params: 0\n",
            "_________________________________________________________________\n"
          ]
        }
      ]
    },
    {
      "cell_type": "markdown",
      "metadata": {
        "id": "nIkRS9FtwcHr"
      },
      "source": [
        "Modelimize gorsel acidan bakalim"
      ]
    },
    {
      "cell_type": "code",
      "metadata": {
        "colab": {
          "base_uri": "https://localhost:8080/",
          "height": 312
        },
        "id": "ToOh3AwqwRB3",
        "outputId": "3d5d927a-8ddc-49a0-d58f-dbc588ede28d"
      },
      "source": [
        "from tensorflow.keras.utils import plot_model\n",
        "\n",
        "plot_model(model, show_shapes=True)"
      ],
      "execution_count": null,
      "outputs": [
        {
          "output_type": "execute_result",
          "data": {
            "image/png": "[encoded data removed]",
            "text/plain": [
              "<IPython.core.display.Image object>"
            ]
          },
          "metadata": {},
          "execution_count": 23
        }
      ]
    },
    {
      "cell_type": "markdown",
      "metadata": {
        "id": "3q4Kc_WYzI-Z"
      },
      "source": [
        "## Modelin tahminlerini gorsellestirmek"
      ]
    },
    {
      "cell_type": "code",
      "metadata": {
        "colab": {
          "base_uri": "https://localhost:8080/"
        },
        "id": "_S6-obBGws2e",
        "outputId": "89a9634b-4d35-4b03-a12b-aa5f5632333a"
      },
      "source": [
        "#modelimizin test seti uzerindeki tahminleree bakalim\n",
        "y_pred = model.predict(X_test)\n",
        "y_pred"
      ],
      "execution_count": null,
      "outputs": [
        {
          "output_type": "execute_result",
          "data": {
            "text/plain": [
              "array([[272.81207],\n",
              "       [291.01312],\n",
              "       [309.2141 ],\n",
              "       [327.41513],\n",
              "       [345.61618],\n",
              "       [363.8172 ],\n",
              "       [382.01822],\n",
              "       [400.21924],\n",
              "       [418.42026],\n",
              "       [436.62128]], dtype=float32)"
            ]
          },
          "metadata": {},
          "execution_count": 24
        }
      ]
    },
    {
      "cell_type": "code",
      "metadata": {
        "colab": {
          "base_uri": "https://localhost:8080/"
        },
        "id": "Urtplpyrzlde",
        "outputId": "0adc9a16-7abb-4e58-d646-3e713cfa0931"
      },
      "source": [
        "#olmasi gereken degerlere bakalim bunlara labelda diyebiliriz\n",
        "y_test"
      ],
      "execution_count": null,
      "outputs": [
        {
          "output_type": "execute_result",
          "data": {
            "text/plain": [
              "<tf.Tensor: shape=(10,), dtype=int32, numpy=array([240, 256, 272, 288, 304, 320, 336, 352, 368, 384], dtype=int32)>"
            ]
          },
          "metadata": {},
          "execution_count": 25
        }
      ]
    },
    {
      "cell_type": "markdown",
      "metadata": {
        "id": "h0QWkiatz80Y"
      },
      "source": [
        "Bunlari gorsellestirelim. Fonksiyon yazip bunu tekrar kullanabiliriz"
      ]
    },
    {
      "cell_type": "code",
      "metadata": {
        "id": "FiayLMCyztf_"
      },
      "source": [
        "def plot_predictions(train_data ,\n",
        "                     train_labels ,\n",
        "                     test_data ,\n",
        "                     test_labels,\n",
        "                     predictions ):\n",
        "  plt.figure(figsize=(10,7))\n",
        "  #plt.scatter(train_data, train_labels, c=\"b\",label =\"Egitim Verisi\")\n",
        "  plt.scatter(test_data, test_labels, c=\"g\",label =\"Test Verisi\")\n",
        "  plt.scatter(test_data, predictions, c=\"r\",label =\"Tahminler\")\n",
        "  plt.legend();"
      ],
      "execution_count": null,
      "outputs": []
    },
    {
      "cell_type": "code",
      "metadata": {
        "colab": {
          "base_uri": "https://localhost:8080/",
          "height": 428
        },
        "id": "BfydDbfy1YFK",
        "outputId": "ca0c01b6-1a6a-4227-8204-eb018213f133"
      },
      "source": [
        "plot_predictions(train_data = X_train,\n",
        "                train_labels = y_train,\n",
        "                test_data = X_test,\n",
        "                test_labels = y_test,\n",
        "                predictions = y_pred)"
      ],
      "execution_count": null,
      "outputs": [
        {
          "output_type": "display_data",
          "data": {
            "image/png": "[encoded data removed]",
            "text/plain": [
              "<Figure size 720x504 with 1 Axes>"
            ]
          },
          "metadata": {
            "needs_background": "light"
          }
        }
      ]
    },
    {
      "cell_type": "markdown",
      "metadata": {
        "id": "A4WI6Foi1w46"
      },
      "source": [
        "Tahminler gayet iyi oldugu icin yesil nokatarimiz cok az gorunuyor. Fonksiyonumuzdaki # i kaldirip egitim verisinide gorsellestirebiliriz"
      ]
    },
    {
      "cell_type": "markdown",
      "metadata": {
        "id": "bVJ8w-2G2lY4"
      },
      "source": [
        "### Modelimizin performansini degerlendirmek icin cesitli metriclere bakalim.()"
      ]
    },
    {
      "cell_type": "markdown",
      "metadata": {
        "id": "H_7rJNsIAuU5"
      },
      "source": [
        "mae veya mase gibi"
      ]
    },
    {
      "cell_type": "code",
      "metadata": {
        "colab": {
          "base_uri": "https://localhost:8080/"
        },
        "id": "OezlWEbW1Zd2",
        "outputId": "9746adc4-a5e4-43c6-b886-1eddd87f9af8"
      },
      "source": [
        "model.evaluate(X_test, y_test)"
      ],
      "execution_count": null,
      "outputs": [
        {
          "output_type": "stream",
          "name": "stdout",
          "text": [
            "1/1 [==============================] - 0s 126ms/step - loss: 42.7167 - mae: 42.7167\n"
          ]
        },
        {
          "output_type": "execute_result",
          "data": {
            "text/plain": [
              "[42.716678619384766, 42.716678619384766]"
            ]
          },
          "metadata": {},
          "execution_count": 28
        }
      ]
    },
    {
      "cell_type": "markdown",
      "metadata": {
        "id": "SJBj4vnyBQR_"
      },
      "source": [
        "loss fonk nunuda metrici de mae sectigimiz icin ayni degerleri donduler"
      ]
    },
    {
      "cell_type": "code",
      "metadata": {
        "colab": {
          "base_uri": "https://localhost:8080/"
        },
        "id": "yukxiN2oC83q",
        "outputId": "802bf967-a7dc-4c2c-8a5f-f4b32cef840e"
      },
      "source": [
        "tf.squeeze(y_pred)"
      ],
      "execution_count": null,
      "outputs": [
        {
          "output_type": "execute_result",
          "data": {
            "text/plain": [
              "<tf.Tensor: shape=(10,), dtype=float32, numpy=\n",
              "array([272.81207, 291.01312, 309.2141 , 327.41513, 345.61618, 363.8172 ,\n",
              "       382.01822, 400.21924, 418.42026, 436.62128], dtype=float32)>"
            ]
          },
          "metadata": {},
          "execution_count": 29
        }
      ]
    },
    {
      "cell_type": "code",
      "metadata": {
        "colab": {
          "base_uri": "https://localhost:8080/"
        },
        "id": "gwAJA3cdBdD5",
        "outputId": "6d0e3f1a-7727-45d6-af00-eddcedaeb980"
      },
      "source": [
        "#mean absolute error u hesaplayalim (mae)\n",
        "mae = tf.metrics.mean_absolute_error(y_test, tf.squeeze(y_pred))\n",
        "mae "
      ],
      "execution_count": null,
      "outputs": [
        {
          "output_type": "execute_result",
          "data": {
            "text/plain": [
              "<tf.Tensor: shape=(), dtype=float32, numpy=42.716682>"
            ]
          },
          "metadata": {},
          "execution_count": 30
        }
      ]
    },
    {
      "cell_type": "markdown",
      "metadata": {
        "id": "elFUAg1yDLa9"
      },
      "source": [
        "goruldugu gibi evaluate fonksiyonu ile ayni ciktiyi almis olduk"
      ]
    },
    {
      "cell_type": "code",
      "metadata": {
        "colab": {
          "base_uri": "https://localhost:8080/"
        },
        "id": "eZet6AdvDP0G",
        "outputId": "4a6a247a-5735-4fe7-898e-75eb3f5ba77d"
      },
      "source": [
        "#mean square error u hesaplayalim bu da bir metrictir\n",
        "mse = tf.metrics.mean_squared_error(y_test,tf.squeeze(y_pred))\n",
        "mse"
      ],
      "execution_count": null,
      "outputs": [
        {
          "output_type": "execute_result",
          "data": {
            "text/plain": [
              "<tf.Tensor: shape=(), dtype=float32, numpy=1864.682>"
            ]
          },
          "metadata": {},
          "execution_count": 31
        }
      ]
    },
    {
      "cell_type": "code",
      "metadata": {
        "id": "cTuW9qqGDhM4"
      },
      "source": [
        "#bunlari bir fonksiyon seklinde yazalim tekrar kullanabilmek icin\n",
        "\n",
        "def mae(y_true, y_pred):\n",
        "  return tf.metrics.mean_absolute_error(y_true= y_test,\n",
        "                                        y_pred= tf.squeeze(y_pred))\n",
        "  \n",
        "def mse(y_true, y_pred):\n",
        "  return tf.metrics.mean_squared_error(y_true= y_test,\n",
        "                                        y_pred= tf.squeeze(y_pred))\n",
        "  #tf.squeeze metodunu verilerimizin shapeini benzetmek icin kullaniyoruz"
      ],
      "execution_count": null,
      "outputs": []
    },
    {
      "cell_type": "markdown",
      "metadata": {
        "id": "qNawznLXFx_o"
      },
      "source": [
        "# Ogrendiklerimizi uygulayalim"
      ]
    },
    {
      "cell_type": "markdown",
      "metadata": {
        "id": "Zr460YoTF13_"
      },
      "source": [
        "3 tane farkli model gelistirelim\n",
        " 1. \"model_1\" - 1 katman(layer) ve 100 epochs ta egitelim.\n",
        " 2. \"model_2\" - 2 katman(layer) ve 100 epochs ta egitelim.\n",
        " 3. \"model_3\" - 2 katman (layer) ve 500 epochs ta egitelim"
      ]
    },
    {
      "cell_type": "markdown",
      "metadata": {
        "id": "FEU1F6GLGkYY"
      },
      "source": [
        "**model_1** i yapalim"
      ]
    },
    {
      "cell_type": "code",
      "metadata": {
        "id": "TAujkC83EhpK"
      },
      "source": [
        " #1modelin tanimlayalim\n",
        "model_1 =tf.keras.Sequential([                      \n",
        "          tf.keras.layers.Dense(1)\n",
        "])\n",
        "\n",
        "#modeli compile edelim\n",
        "model_1.compile(loss = tf.keras.losses.MAE,\n",
        "                optimizer = tf.keras.optimizers.SGD(),\n",
        "                metrics=[\"mae\"])\n",
        "\n",
        "#modeli fit edelim\n",
        "model_1.fit(X_train ,y_train, epochs = 100)"
      ],
      "execution_count": null,
      "outputs": []
    },
    {
      "cell_type": "code",
      "metadata": {
        "colab": {
          "base_uri": "https://localhost:8080/",
          "height": 465
        },
        "id": "5jCvusPnHsB6",
        "outputId": "6ce53920-aab7-4dfe-fa50-eba3a7894387"
      },
      "source": [
        "#yukarida yazdigimiz fonksiyonu kullanarak cizdirelim\n",
        "y_pred_1 = model_1.predict(X_test)\n",
        "\n",
        "plot_predictions(train_data = X_train,\n",
        "                train_labels = y_train,\n",
        "                test_data = X_test,\n",
        "                test_labels = y_test,\n",
        "                predictions = y_pred_1)"
      ],
      "execution_count": null,
      "outputs": [
        {
          "output_type": "stream",
          "name": "stdout",
          "text": [
            "WARNING:tensorflow:5 out of the last 5 calls to <function Model.make_predict_function.<locals>.predict_function at 0x7ffa585c9cb0> triggered tf.function retracing. Tracing is expensive and the excessive number of tracings could be due to (1) creating @tf.function repeatedly in a loop, (2) passing tensors with different shapes, (3) passing Python objects instead of tensors. For (1), please define your @tf.function outside of the loop. For (2), @tf.function has experimental_relax_shapes=True option that relaxes argument shapes that can avoid unnecessary retracing. For (3), please refer to https://www.tensorflow.org/guide/function#controlling_retracing and https://www.tensorflow.org/api_docs/python/tf/function for  more details.\n"
          ]
        },
        {
          "output_type": "display_data",
          "data": {
            "image/png": "[encoded data removed]",
            "text/plain": [
              "<Figure size 720x504 with 1 Axes>"
            ]
          },
          "metadata": {
            "needs_background": "light"
          }
        }
      ]
    },
    {
      "cell_type": "code",
      "metadata": {
        "colab": {
          "base_uri": "https://localhost:8080/"
        },
        "id": "wd8TZnBJIF4_",
        "outputId": "b7ee1dcc-be39-4fbd-f1c0-f07027cbc586"
      },
      "source": [
        "#model_1 icin degerlendirme metriklerine bakalim\n",
        "mae_1 = mae(y_test, y_pred_1)\n",
        "mse_1 = mse(y_test, y_pred_1)\n",
        "\n",
        "mae_1 , mse_1"
      ],
      "execution_count": null,
      "outputs": [
        {
          "output_type": "execute_result",
          "data": {
            "text/plain": [
              "(<tf.Tensor: shape=(), dtype=float32, numpy=33.492638>,\n",
              " <tf.Tensor: shape=(), dtype=float32, numpy=1146.1062>)"
            ]
          },
          "metadata": {},
          "execution_count": 35
        }
      ]
    },
    {
      "cell_type": "markdown",
      "metadata": {
        "id": "BMSoFqvoNqlx"
      },
      "source": [
        "**model_2**\n",
        "\n",
        "* 2 dense layers , 100 epochs"
      ]
    },
    {
      "cell_type": "code",
      "metadata": {
        "id": "KswcIKiBM4Wj"
      },
      "source": [
        "#modelin tanimlayalim\n",
        "model_2 =tf.keras.Sequential([                      \n",
        "          tf.keras.layers.Dense(10), #10 tane gizli katman(hidden layer) ekleyelim \n",
        "          tf.keras.layers.Dense(1)\n",
        "])\n",
        "\n",
        "#modeli compile edelim\n",
        "model_2.compile(loss = tf.keras.losses.MAE,\n",
        "                optimizer = tf.keras.optimizers.SGD(),\n",
        "                metrics=[\"mae\"])\n",
        "\n",
        "#modeli fit edelim\n",
        "model_2.fit(X_train ,y_train, epochs = 100)"
      ],
      "execution_count": null,
      "outputs": []
    },
    {
      "cell_type": "code",
      "metadata": {
        "colab": {
          "base_uri": "https://localhost:8080/",
          "height": 465
        },
        "id": "4EhvH_htOVHi",
        "outputId": "732b0acc-88ed-4697-8c2b-8978e9b2fba5"
      },
      "source": [
        "#yukarida yazdigimiz fonksiyonu kullanarak cizdirelim\n",
        "y_pred_2 = model_2.predict(X_test)\n",
        "\n",
        "plot_predictions(train_data = X_train,\n",
        "                train_labels = y_train,\n",
        "                test_data = X_test,\n",
        "                test_labels = y_test,\n",
        "                predictions = y_pred_2)"
      ],
      "execution_count": null,
      "outputs": [
        {
          "output_type": "stream",
          "name": "stdout",
          "text": [
            "WARNING:tensorflow:6 out of the last 6 calls to <function Model.make_predict_function.<locals>.predict_function at 0x7ffa01bb3c20> triggered tf.function retracing. Tracing is expensive and the excessive number of tracings could be due to (1) creating @tf.function repeatedly in a loop, (2) passing tensors with different shapes, (3) passing Python objects instead of tensors. For (1), please define your @tf.function outside of the loop. For (2), @tf.function has experimental_relax_shapes=True option that relaxes argument shapes that can avoid unnecessary retracing. For (3), please refer to https://www.tensorflow.org/guide/function#controlling_retracing and https://www.tensorflow.org/api_docs/python/tf/function for  more details.\n"
          ]
        },
        {
          "output_type": "display_data",
          "data": {
            "image/png": "[encoded data removed]",
            "text/plain": [
              "<Figure size 720x504 with 1 Axes>"
            ]
          },
          "metadata": {
            "needs_background": "light"
          }
        }
      ]
    },
    {
      "cell_type": "markdown",
      "metadata": {
        "id": "leN4ipd9OtYK"
      },
      "source": [
        "Grafikleri karsilastigimizda ekledigimiz katman ile model daha iyi bir performans sergiledigini gorebiliriz"
      ]
    },
    {
      "cell_type": "code",
      "metadata": {
        "colab": {
          "base_uri": "https://localhost:8080/"
        },
        "id": "o9t_LL6dOqJH",
        "outputId": "5d158fc6-1b61-43df-999f-39f451e913b2"
      },
      "source": [
        "#model_2 icin degerlendirme metriklerine bakalim\n",
        "mae_2 = mae(y_test, y_pred_2)\n",
        "mse_2 = mse(y_test, y_pred_2)\n",
        "\n",
        "mae_2 , mse_2"
      ],
      "execution_count": null,
      "outputs": [
        {
          "output_type": "execute_result",
          "data": {
            "text/plain": [
              "(<tf.Tensor: shape=(), dtype=float32, numpy=5.608266>,\n",
              " <tf.Tensor: shape=(), dtype=float32, numpy=32.146828>)"
            ]
          },
          "metadata": {},
          "execution_count": 38
        }
      ]
    },
    {
      "cell_type": "markdown",
      "metadata": {
        "id": "yktL8wFAPBgq"
      },
      "source": [
        "**model_3**\n",
        "\n",
        "* 2 layers , 500 epochs"
      ]
    },
    {
      "cell_type": "code",
      "metadata": {
        "id": "2w8tpvLoO9Cg"
      },
      "source": [
        "#modelin tanimlayalim\n",
        "model_3 =tf.keras.Sequential([                      \n",
        "          tf.keras.layers.Dense(10), #10 tane gizli katman(hidden layer) ekleyelim \n",
        "          tf.keras.layers.Dense(1)\n",
        "])\n",
        "\n",
        "#modeli compile edelim\n",
        "model_3.compile(loss = tf.keras.losses.MAE,\n",
        "                optimizer = tf.keras.optimizers.SGD(),\n",
        "                metrics=[\"mae\"])\n",
        "\n",
        "#modeli fit edelim\n",
        "model_3.fit(X_train ,y_train, epochs = 500)"
      ],
      "execution_count": null,
      "outputs": []
    },
    {
      "cell_type": "code",
      "metadata": {
        "colab": {
          "base_uri": "https://localhost:8080/",
          "height": 428
        },
        "id": "oCUfB5E5PYtn",
        "outputId": "fb211cbd-8a08-4dfa-8efd-0e1c4d191084"
      },
      "source": [
        "#yukarida yazdigimiz fonksiyonu kullanarak cizdirelim\n",
        "y_pred_3 = model_3.predict(X_test)\n",
        "\n",
        "plot_predictions(train_data = X_train,\n",
        "                train_labels = y_train,\n",
        "                test_data = X_test,\n",
        "                test_labels = y_test,\n",
        "                predictions = y_pred_3)"
      ],
      "execution_count": null,
      "outputs": [
        {
          "output_type": "display_data",
          "data": {
            "image/png": "[encoded data removed]",
            "text/plain": [
              "<Figure size 720x504 with 1 Axes>"
            ]
          },
          "metadata": {
            "needs_background": "light"
          }
        }
      ]
    },
    {
      "cell_type": "markdown",
      "metadata": {
        "id": "0hBvxpBXPiSL"
      },
      "source": [
        "Grafikte gordugumuz gibi model_3 en kotu performansa sahip modelimiz oldu. Modelimizin epochs sayisi cok fazla geldi. Modelimiz verileri fazlasiyla gormesiyle verileri ezberleme basladi. Bu bizi overfitting (asiri ogrenme) sorunuyla karsilastirdi."
      ]
    },
    {
      "cell_type": "code",
      "metadata": {
        "colab": {
          "base_uri": "https://localhost:8080/"
        },
        "id": "nF3GQyQIPdiZ",
        "outputId": "42cbcd1d-8807-41ac-c977-de90855c3006"
      },
      "source": [
        "#model_2 icin degerlendirme metriklerine bakalim\n",
        "mae_3 = mae(y_test, y_pred_3)\n",
        "mse_3 = mse(y_test, y_pred_3)\n",
        "\n",
        "mae_3 , mse_3"
      ],
      "execution_count": null,
      "outputs": [
        {
          "output_type": "execute_result",
          "data": {
            "text/plain": [
              "(<tf.Tensor: shape=(), dtype=float32, numpy=465.04266>,\n",
              " <tf.Tensor: shape=(), dtype=float32, numpy=220952.2>)"
            ]
          },
          "metadata": {},
          "execution_count": 41
        }
      ]
    },
    {
      "cell_type": "markdown",
      "metadata": {
        "id": "76XudpR_QTbA"
      },
      "source": [
        "# Modellerimizi karsilastiralim"
      ]
    },
    {
      "cell_type": "code",
      "metadata": {
        "colab": {
          "base_uri": "https://localhost:8080/",
          "height": 142
        },
        "id": "xmRpDXXQP_xR",
        "outputId": "1619363f-5317-4afb-95be-eb1db334d82a"
      },
      "source": [
        "import pandas as pd\n",
        "\n",
        "model_results = [[\"model_1\", mae_1.numpy(), mse_1.numpy()],\n",
        "                [\"model_2\", mae_2.numpy(), mse_2.numpy()],\n",
        "                [\"model_3\", mae_3.numpy(), mse_3.numpy()]]\n",
        "\n",
        "all_results = pd.DataFrame(model_results, columns=[\"model\",\"mae\",\"mse\"])\n",
        "all_results\n"
      ],
      "execution_count": null,
      "outputs": [
        {
          "output_type": "execute_result",
          "data": {
            "text/html": [
              "<div>\n",
              "<style scoped>\n",
              "    .dataframe tbody tr th:only-of-type {\n",
              "        vertical-align: middle;\n",
              "    }\n",
              "\n",
              "    .dataframe tbody tr th {\n",
              "        vertical-align: top;\n",
              "    }\n",
              "\n",
              "    .dataframe thead th {\n",
              "        text-align: right;\n",
              "    }\n",
              "</style>\n",
              "<table border=\"1\" class=\"dataframe\">\n",
              "  <thead>\n",
              "    <tr style=\"text-align: right;\">\n",
              "      <th></th>\n",
              "      <th>model</th>\n",
              "      <th>mae</th>\n",
              "      <th>mse</th>\n",
              "    </tr>\n",
              "  </thead>\n",
              "  <tbody>\n",
              "    <tr>\n",
              "      <th>0</th>\n",
              "      <td>model_1</td>\n",
              "      <td>33.492638</td>\n",
              "      <td>1146.106201</td>\n",
              "    </tr>\n",
              "    <tr>\n",
              "      <th>1</th>\n",
              "      <td>model_2</td>\n",
              "      <td>5.608266</td>\n",
              "      <td>32.146828</td>\n",
              "    </tr>\n",
              "    <tr>\n",
              "      <th>2</th>\n",
              "      <td>model_3</td>\n",
              "      <td>465.042664</td>\n",
              "      <td>220952.203125</td>\n",
              "    </tr>\n",
              "  </tbody>\n",
              "</table>\n",
              "</div>"
            ],
            "text/plain": [
              "     model         mae            mse\n",
              "0  model_1   33.492638    1146.106201\n",
              "1  model_2    5.608266      32.146828\n",
              "2  model_3  465.042664  220952.203125"
            ]
          },
          "metadata": {},
          "execution_count": 42
        }
      ]
    },
    {
      "cell_type": "markdown",
      "metadata": {
        "id": "OpLk9F6-RiaC"
      },
      "source": [
        "en iyi modelimiz model_2 oldu onu inceleyelim"
      ]
    },
    {
      "cell_type": "code",
      "metadata": {
        "colab": {
          "base_uri": "https://localhost:8080/"
        },
        "id": "6jEDk0VWRUJR",
        "outputId": "c3d7761e-ec24-4568-f254-9d0ecd664660"
      },
      "source": [
        "model_2.summary()"
      ],
      "execution_count": null,
      "outputs": [
        {
          "output_type": "stream",
          "name": "stdout",
          "text": [
            "Model: \"sequential_4\"\n",
            "_________________________________________________________________\n",
            "Layer (type)                 Output Shape              Param #   \n",
            "=================================================================\n",
            "dense_5 (Dense)              (None, 10)                20        \n",
            "_________________________________________________________________\n",
            "dense_6 (Dense)              (None, 1)                 11        \n",
            "=================================================================\n",
            "Total params: 31\n",
            "Trainable params: 31\n",
            "Non-trainable params: 0\n",
            "_________________________________________________________________\n"
          ]
        }
      ]
    },
    {
      "cell_type": "markdown",
      "metadata": {
        "id": "Zi8fG5r4E4AW"
      },
      "source": [
        "Modeli kaydetmek"
      ]
    },
    {
      "cell_type": "code",
      "metadata": {
        "id": "EFeT0qE9Rhu_",
        "colab": {
          "base_uri": "https://localhost:8080/"
        },
        "outputId": "ca4fb67f-79c1-4192-ad27-2a2c72d66344"
      },
      "source": [
        "model_2.save(\"model_2\") #modeli kaydetmek icin nereye edecegini yazdik"
      ],
      "execution_count": null,
      "outputs": [
        {
          "output_type": "stream",
          "name": "stdout",
          "text": [
            "INFO:tensorflow:Assets written to: model_2/assets\n"
          ]
        }
      ]
    },
    {
      "cell_type": "markdown",
      "metadata": {
        "id": "vMCni-1gFZTy"
      },
      "source": [
        "farkli bir formatta edelim"
      ]
    },
    {
      "cell_type": "code",
      "metadata": {
        "id": "yL7GIeCkFQKN"
      },
      "source": [
        "model_2.save(\"model_2_HDF5_format.h5\")"
      ],
      "execution_count": null,
      "outputs": []
    },
    {
      "cell_type": "markdown",
      "metadata": {
        "id": "me4LNrweFtzX"
      },
      "source": [
        "modelin dogru kaydedildigini kontrol etmek icin kaydedilmis modeli yukleyelim"
      ]
    },
    {
      "cell_type": "code",
      "metadata": {
        "id": "Zo-vwRMtFkIl"
      },
      "source": [
        "loaded_model_2 = tf.keras.models.load_model(\"/content/model_2_HDF5_format.h5\")\n",
        "#sadece ice aktaracagimiz modelin dosya yolunu yazdik"
      ],
      "execution_count": null,
      "outputs": []
    },
    {
      "cell_type": "code",
      "metadata": {
        "colab": {
          "base_uri": "https://localhost:8080/"
        },
        "id": "5D040bRJGIoS",
        "outputId": "bab1946f-086c-4455-c089-b3a4c6a8efaa"
      },
      "source": [
        "loaded_model_2.summary()"
      ],
      "execution_count": null,
      "outputs": [
        {
          "output_type": "stream",
          "name": "stdout",
          "text": [
            "Model: \"sequential_4\"\n",
            "_________________________________________________________________\n",
            "Layer (type)                 Output Shape              Param #   \n",
            "=================================================================\n",
            "dense_5 (Dense)              (None, 10)                20        \n",
            "_________________________________________________________________\n",
            "dense_6 (Dense)              (None, 1)                 11        \n",
            "=================================================================\n",
            "Total params: 31\n",
            "Trainable params: 31\n",
            "Non-trainable params: 0\n",
            "_________________________________________________________________\n"
          ]
        }
      ]
    },
    {
      "cell_type": "code",
      "metadata": {
        "colab": {
          "base_uri": "https://localhost:8080/"
        },
        "id": "11KOur6gGLGM",
        "outputId": "1796016e-ede4-4710-f900-ffbb690212bd"
      },
      "source": [
        "model_2.summary()"
      ],
      "execution_count": null,
      "outputs": [
        {
          "output_type": "stream",
          "name": "stdout",
          "text": [
            "Model: \"sequential_4\"\n",
            "_________________________________________________________________\n",
            "Layer (type)                 Output Shape              Param #   \n",
            "=================================================================\n",
            "dense_5 (Dense)              (None, 10)                20        \n",
            "_________________________________________________________________\n",
            "dense_6 (Dense)              (None, 1)                 11        \n",
            "=================================================================\n",
            "Total params: 31\n",
            "Trainable params: 31\n",
            "Non-trainable params: 0\n",
            "_________________________________________________________________\n"
          ]
        }
      ]
    },
    {
      "cell_type": "markdown",
      "metadata": {
        "id": "Vs2oZy18GW4d"
      },
      "source": [
        "goruldugu uzere ayni modeller"
      ]
    },
    {
      "cell_type": "code",
      "metadata": {
        "colab": {
          "base_uri": "https://localhost:8080/"
        },
        "id": "lWT8IcvnGQC8",
        "outputId": "f8191ee9-e9ed-46b7-e70b-691fe6b83f8a"
      },
      "source": [
        "model_2_preds = model_2.predict(X_test)\n",
        "loaded_model_preds = loaded_model_2.predict(X_test)\n",
        "model_2_preds == loaded_model_preds"
      ],
      "execution_count": null,
      "outputs": [
        {
          "output_type": "execute_result",
          "data": {
            "text/plain": [
              "array([[ True],\n",
              "       [ True],\n",
              "       [ True],\n",
              "       [ True],\n",
              "       [ True],\n",
              "       [ True],\n",
              "       [ True],\n",
              "       [ True],\n",
              "       [ True],\n",
              "       [ True]])"
            ]
          },
          "metadata": {},
          "execution_count": 54
        }
      ]
    },
    {
      "cell_type": "markdown",
      "metadata": {
        "id": "JIl7o1fVHVnj"
      },
      "source": [
        "gordugunuz gibi yaptiklari tahminlerde birbirine esit"
      ]
    },
    {
      "cell_type": "code",
      "metadata": {
        "id": "W6W9akKOHUP1"
      },
      "source": [
        ""
      ],
      "execution_count": null,
      "outputs": []
    }
  ]
}