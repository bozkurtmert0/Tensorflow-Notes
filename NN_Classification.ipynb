{
  "nbformat": 4,
  "nbformat_minor": 0,
  "metadata": {
    "colab": {
      "name": "NN_Classification.ipynb",
      "provenance": []
    },
    "kernelspec": {
      "name": "python3",
      "display_name": "Python 3"
    },
    "language_info": {
      "name": "python"
    }
  },
  "cells": [
    {
      "cell_type": "markdown",
      "metadata": {
        "id": "Scs8onfhZVpM"
      },
      "source": [
        "# Veriyi Olusturma"
      ]
    },
    {
      "cell_type": "code",
      "metadata": {
        "id": "mCmFwHkGXeJk"
      },
      "source": [
        "#ornek olusturmak icin bir veri seti olusturucusu basit sekilde\n",
        "from sklearn.datasets import make_circles\n",
        "\n",
        "#kac adet ornek icerecegi\n",
        "n_samples = 10000\n",
        "\n",
        "#olusturalim\n",
        "X, y = make_circles(n_samples,\n",
        "                    noise = 0.03,\n",
        "                    random_state =43)"
      ],
      "execution_count": 1,
      "outputs": []
    },
    {
      "cell_type": "markdown",
      "metadata": {
        "id": "VI9cOfR_aT_G"
      },
      "source": [
        "Verimizi inceleyelim"
      ]
    },
    {
      "cell_type": "code",
      "metadata": {
        "colab": {
          "base_uri": "https://localhost:8080/"
        },
        "id": "CQhitjvtaR7W",
        "outputId": "7c4935af-e48d-4be9-f8a8-b6c74e23724b"
      },
      "source": [
        "X"
      ],
      "execution_count": 2,
      "outputs": [
        {
          "output_type": "execute_result",
          "data": {
            "text/plain": [
              "(array([[ 0.64499139, -0.5548348 ],\n",
              "        [-0.09155029,  0.76526084],\n",
              "        [-0.59846096, -0.5020346 ],\n",
              "        ...,\n",
              "        [-0.66059051, -0.5000104 ],\n",
              "        [-0.97435605,  0.28935059],\n",
              "        [-0.48026755, -0.87332996]]), array([1, 1, 1, ..., 1, 0, 0]))"
            ]
          },
          "metadata": {},
          "execution_count": 2
        }
      ]
    },
    {
      "cell_type": "code",
      "metadata": {
        "colab": {
          "base_uri": "https://localhost:8080/"
        },
        "id": "jfiQhVhCaX4v",
        "outputId": "ad562939-1dc4-4aa5-bc35-cf0699d06559"
      },
      "source": [
        "y"
      ],
      "execution_count": 3,
      "outputs": [
        {
          "output_type": "execute_result",
          "data": {
            "text/plain": [
              "array([1, 1, 1, ..., 1, 0, 0])"
            ]
          },
          "metadata": {},
          "execution_count": 3
        }
      ]
    },
    {
      "cell_type": "markdown",
      "metadata": {
        "id": "kVdQM1cvad4t"
      },
      "source": [
        "labellarimiza baktigimizda sadece 0 ve 1 leri goruyoruz yani bi bir binary classification yani ikili siniflandirma verisidir"
      ]
    },
    {
      "cell_type": "markdown",
      "metadata": {
        "id": "gIlH6dl3ay-s"
      },
      "source": [
        "daha guzel sekilde bakmak icin bir dataframe olsuturalim"
      ]
    },
    {
      "cell_type": "code",
      "metadata": {
        "colab": {
          "base_uri": "https://localhost:8080/",
          "height": 417
        },
        "id": "P0BUXSvTabkb",
        "outputId": "800bb70f-683a-4671-f6f8-ba0f07b03afc"
      },
      "source": [
        "import pandas as pd\n",
        "\n",
        "circles = pd.DataFrame({\"X0\":X[:,0],\"X1\":X[:,1], \"label\": y})\n",
        "circles"
      ],
      "execution_count": 6,
      "outputs": [
        {
          "output_type": "execute_result",
          "data": {
            "text/html": [
              "<div>\n",
              "<style scoped>\n",
              "    .dataframe tbody tr th:only-of-type {\n",
              "        vertical-align: middle;\n",
              "    }\n",
              "\n",
              "    .dataframe tbody tr th {\n",
              "        vertical-align: top;\n",
              "    }\n",
              "\n",
              "    .dataframe thead th {\n",
              "        text-align: right;\n",
              "    }\n",
              "</style>\n",
              "<table border=\"1\" class=\"dataframe\">\n",
              "  <thead>\n",
              "    <tr style=\"text-align: right;\">\n",
              "      <th></th>\n",
              "      <th>X0</th>\n",
              "      <th>X1</th>\n",
              "      <th>label</th>\n",
              "    </tr>\n",
              "  </thead>\n",
              "  <tbody>\n",
              "    <tr>\n",
              "      <th>0</th>\n",
              "      <td>0.644991</td>\n",
              "      <td>-0.554835</td>\n",
              "      <td>1</td>\n",
              "    </tr>\n",
              "    <tr>\n",
              "      <th>1</th>\n",
              "      <td>-0.091550</td>\n",
              "      <td>0.765261</td>\n",
              "      <td>1</td>\n",
              "    </tr>\n",
              "    <tr>\n",
              "      <th>2</th>\n",
              "      <td>-0.598461</td>\n",
              "      <td>-0.502035</td>\n",
              "      <td>1</td>\n",
              "    </tr>\n",
              "    <tr>\n",
              "      <th>3</th>\n",
              "      <td>-0.750643</td>\n",
              "      <td>-0.255237</td>\n",
              "      <td>1</td>\n",
              "    </tr>\n",
              "    <tr>\n",
              "      <th>4</th>\n",
              "      <td>1.021241</td>\n",
              "      <td>-0.013013</td>\n",
              "      <td>0</td>\n",
              "    </tr>\n",
              "    <tr>\n",
              "      <th>...</th>\n",
              "      <td>...</td>\n",
              "      <td>...</td>\n",
              "      <td>...</td>\n",
              "    </tr>\n",
              "    <tr>\n",
              "      <th>9995</th>\n",
              "      <td>-0.298812</td>\n",
              "      <td>-0.743841</td>\n",
              "      <td>1</td>\n",
              "    </tr>\n",
              "    <tr>\n",
              "      <th>9996</th>\n",
              "      <td>-0.834559</td>\n",
              "      <td>0.524279</td>\n",
              "      <td>0</td>\n",
              "    </tr>\n",
              "    <tr>\n",
              "      <th>9997</th>\n",
              "      <td>-0.660591</td>\n",
              "      <td>-0.500010</td>\n",
              "      <td>1</td>\n",
              "    </tr>\n",
              "    <tr>\n",
              "      <th>9998</th>\n",
              "      <td>-0.974356</td>\n",
              "      <td>0.289351</td>\n",
              "      <td>0</td>\n",
              "    </tr>\n",
              "    <tr>\n",
              "      <th>9999</th>\n",
              "      <td>-0.480268</td>\n",
              "      <td>-0.873330</td>\n",
              "      <td>0</td>\n",
              "    </tr>\n",
              "  </tbody>\n",
              "</table>\n",
              "<p>10000 rows × 3 columns</p>\n",
              "</div>"
            ],
            "text/plain": [
              "            X0        X1  label\n",
              "0     0.644991 -0.554835      1\n",
              "1    -0.091550  0.765261      1\n",
              "2    -0.598461 -0.502035      1\n",
              "3    -0.750643 -0.255237      1\n",
              "4     1.021241 -0.013013      0\n",
              "...        ...       ...    ...\n",
              "9995 -0.298812 -0.743841      1\n",
              "9996 -0.834559  0.524279      0\n",
              "9997 -0.660591 -0.500010      1\n",
              "9998 -0.974356  0.289351      0\n",
              "9999 -0.480268 -0.873330      0\n",
              "\n",
              "[10000 rows x 3 columns]"
            ]
          },
          "metadata": {},
          "execution_count": 6
        }
      ]
    },
    {
      "cell_type": "markdown",
      "metadata": {
        "id": "ehY-1z_-bUV1"
      },
      "source": [
        "2 girdimiz yani ozelligimiz ve 1 ciktimiz var"
      ]
    },
    {
      "cell_type": "markdown",
      "metadata": {
        "id": "g4WzsiIkbY01"
      },
      "source": [
        "plot seklinde bakalim ki verimizi daha iyi anlayalim"
      ]
    },
    {
      "cell_type": "code",
      "metadata": {
        "colab": {
          "base_uri": "https://localhost:8080/",
          "height": 265
        },
        "id": "vRhX6QYPbINc",
        "outputId": "32f2c410-6efd-40c5-e9d1-047287f0428b"
      },
      "source": [
        "import matplotlib.pyplot as plt\n",
        "plt.scatter(X[:, 0], X[:,1], c=y, cmap= plt.cm.RdYlBu);"
      ],
      "execution_count": 7,
      "outputs": [
        {
          "output_type": "display_data",
          "data": {
            "image/png": "[encoded data removed]",
            "text/plain": [
              "<Figure size 432x288 with 1 Axes>"
            ]
          },
          "metadata": {
            "needs_background": "light"
          }
        }
      ]
    },
    {
      "cell_type": "markdown",
      "metadata": {
        "id": "9pxx_YhKb9-N"
      },
      "source": [
        "burada yapmak istedigimiz sey mavi ve kirmizi noktalari ayirarak onlari siniflandirmak olacaktir"
      ]
    },
    {
      "cell_type": "code",
      "metadata": {
        "id": "tgAORkzjbzGD"
      },
      "source": [
        ""
      ],
      "execution_count": null,
      "outputs": []
    }
  ]
}